{
 "cells": [
  {
   "cell_type": "code",
   "execution_count": 1,
   "id": "385d76de-7458-4488-8b9a-c1aeb30496d0",
   "metadata": {},
   "outputs": [
    {
     "name": "stdout",
     "output_type": "stream",
     "text": [
      "BFS traversal starting from vertex 0 :\n",
      "0 1 2 3 4 "
     ]
    }
   ],
   "source": [
    "from collections import deque\n",
    "\n",
    "def BFS(graph, start_vertex):\n",
    "    # Create a queue and enqueue the start_vertex\n",
    "    queue = deque([start_vertex])\n",
    "    \n",
    "    # Create a visited array and mark start_vertex as visited\n",
    "    visited = [False] * len(graph)\n",
    "    visited[start_vertex] = True\n",
    "    \n",
    "    while queue:\n",
    "        # Dequeue from the queue\n",
    "        current_vertex = queue.popleft()\n",
    "        \n",
    "        # Process or print current_vertex\n",
    "        print(current_vertex, end=' ')\n",
    "        \n",
    "        # For each neighbor in the adjacency list of current_vertex\n",
    "        for neighbor in graph[current_vertex]:\n",
    "            if not visited[neighbor]:\n",
    "                # Enqueue neighbor to the queue\n",
    "                queue.append(neighbor)\n",
    "                # Mark neighbor as visited\n",
    "                visited[neighbor] = True\n",
    "\n",
    "# Example usage:\n",
    "# Representing a graph as an adjacency list\n",
    "graph = [\n",
    "    [1, 2],    # Neighbors of vertex 0\n",
    "    [0, 3, 4], # Neighbors of vertex 1\n",
    "    [0, 4],    # Neighbors of vertex 2\n",
    "    [1],       # Neighbors of vertex 3\n",
    "    [1, 2]     # Neighbors of vertex 4\n",
    "]\n",
    "\n",
    "start_vertex = 0\n",
    "print(\"BFS traversal starting from vertex\", start_vertex, \":\")\n",
    "BFS(graph, start_vertex)"
   ]
  },
  {
   "cell_type": "code",
   "execution_count": null,
   "id": "22010767-bce6-4bea-96bf-a31d1cb9861c",
   "metadata": {},
   "outputs": [],
   "source": []
  }
 ],
 "metadata": {
  "kernelspec": {
   "display_name": "Python [conda env:base] *",
   "language": "python",
   "name": "conda-base-py"
  },
  "language_info": {
   "codemirror_mode": {
    "name": "ipython",
    "version": 3
   },
   "file_extension": ".py",
   "mimetype": "text/x-python",
   "name": "python",
   "nbconvert_exporter": "python",
   "pygments_lexer": "ipython3",
   "version": "3.12.7"
  }
 },
 "nbformat": 4,
 "nbformat_minor": 5
}
